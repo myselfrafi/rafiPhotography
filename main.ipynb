{
 "cells": [
  {
   "cell_type": "code",
   "execution_count": 8,
   "metadata": {},
   "outputs": [],
   "source": [
    "import os\n",
    "import cv2\n",
    "import numpy as np\n",
    "import tensorflow as tf\n",
    "from tensorflow.keras.layers import Input, Conv2D, MaxPooling2D, Flatten, Dense, Concatenate\n",
    "from tensorflow.keras.models import Model\n",
    "\n",
    "# Path to the train2017 folder\n",
    "train_dir = \"train\"\n",
    "\n",
    "# Function to extract aesthetic features\n",
    "def extract_aesthetic_features(image):\n",
    "    # Dullness: Average brightness\n",
    "    gray = cv2.cvtColor(image, cv2.COLOR_BGR2GRAY)\n",
    "    dullness = np.mean(gray)\n",
    "    \n",
    "    # Whiteness: Average intensity of white pixels\n",
    "    whiteness = np.mean(image[image > 200]) if np.any(image > 200) else 0\n",
    "    \n",
    "    # Uniformity: Standard deviation of pixel values\n",
    "    uniformity = np.std(image)\n",
    "    \n",
    "    # Colors: Dominant and average colors\n",
    "    average_color = np.mean(image, axis=(0, 1))\n",
    "    reshaped_image = image.reshape(-1, 3)\n",
    "    unique_colors, counts = np.unique(reshaped_image, axis=0, return_counts=True)\n",
    "    dominant_color = unique_colors[np.argmax(counts)]\n",
    "    \n",
    "    # Dimensions: Width, height, and size\n",
    "    height, width, _ = image.shape\n",
    "    size = height * width\n",
    "    \n",
    "    # Blurriness: Variance of Laplacian\n",
    "    gray_laplacian = cv2.Laplacian(gray, cv2.CV_64F)\n",
    "    blurriness = gray_laplacian.var()\n",
    "    \n",
    "    return [\n",
    "        dullness,\n",
    "        whiteness,\n",
    "        uniformity,\n",
    "        average_color[0],  # Red channel\n",
    "        average_color[1],  # Green channel\n",
    "        average_color[2],  # Blue channel\n",
    "        dominant_color[0],  # Red\n",
    "        dominant_color[1],  # Green\n",
    "        dominant_color[2],  # Blue\n",
    "        width,\n",
    "        height,\n",
    "        size,\n",
    "        blurriness\n",
    "    ]"
   ]
  },
  {
   "cell_type": "code",
   "execution_count": 9,
   "metadata": {},
   "outputs": [],
   "source": [
    "# Prepare dataset: Images and extracted features\n",
    "def prepare_dataset(image_dir, img_size=(128, 128)):\n",
    "    images = []\n",
    "    features = []\n",
    "    \n",
    "    for img_name in os.listdir(image_dir):\n",
    "        img_path = os.path.join(image_dir, img_name)\n",
    "        image = cv2.imread(img_path)\n",
    "        if image is None:\n",
    "            continue\n",
    "        \n",
    "        # Resize image for CNN\n",
    "        resized_image = cv2.resize(image, img_size)\n",
    "        images.append(resized_image / 255.0)  # Normalize to [0, 1]\n",
    "        \n",
    "        # Extract features\n",
    "        feature_vector = extract_aesthetic_features(image)\n",
    "        features.append(feature_vector)\n",
    "    \n",
    "    return np.array(images), np.array(features)\n",
    "\n",
    "# Load dataset\n",
    "images, features = prepare_dataset(train_dir)\n",
    "\n",
    "# Generate dummy MOS scores (replace this with real MOS scores if available)\n",
    "mos_scores = np.random.uniform(1, 10, size=len(images))"
   ]
  },
  {
   "cell_type": "code",
   "execution_count": 10,
   "metadata": {},
   "outputs": [],
   "source": [
    "# CNN model for image features\n",
    "input_image = Input(shape=(128, 128, 3))\n",
    "x = Conv2D(32, (3, 3), activation='relu')(input_image)\n",
    "x = MaxPooling2D((2, 2))(x)\n",
    "x = Conv2D(64, (3, 3), activation='relu')(x)\n",
    "x = MaxPooling2D((2, 2))(x)\n",
    "x = Flatten()(x)\n",
    "cnn_output = Dense(128, activation='relu')(x)\n",
    "\n",
    "# Input for extracted features\n",
    "input_features = Input(shape=(13,))\n",
    "combined = Concatenate()([cnn_output, input_features])\n",
    "\n",
    "# Output layer for MOS prediction\n",
    "output = Dense(1, activation='linear')(combined)"
   ]
  },
  {
   "cell_type": "code",
   "execution_count": 11,
   "metadata": {},
   "outputs": [
    {
     "name": "stdout",
     "output_type": "stream",
     "text": [
      "Epoch 1/10\n",
      "\u001b[1m260/260\u001b[0m \u001b[32m━━━━━━━━━━━━━━━━━━━━\u001b[0m\u001b[37m\u001b[0m \u001b[1m53s\u001b[0m 191ms/step - loss: 704057920.0000 - mae: 19597.3398\n",
      "Epoch 2/10\n",
      "\u001b[1m260/260\u001b[0m \u001b[32m━━━━━━━━━━━━━━━━━━━━\u001b[0m\u001b[37m\u001b[0m \u001b[1m47s\u001b[0m 180ms/step - loss: 41762272.0000 - mae: 4922.1372\n",
      "Epoch 3/10\n",
      "\u001b[1m260/260\u001b[0m \u001b[32m━━━━━━━━━━━━━━━━━━━━\u001b[0m\u001b[37m\u001b[0m \u001b[1m47s\u001b[0m 181ms/step - loss: 20937354.0000 - mae: 3427.2539\n",
      "Epoch 4/10\n",
      "\u001b[1m260/260\u001b[0m \u001b[32m━━━━━━━━━━━━━━━━━━━━\u001b[0m\u001b[37m\u001b[0m \u001b[1m47s\u001b[0m 181ms/step - loss: 10232039.0000 - mae: 2347.0127\n",
      "Epoch 5/10\n",
      "\u001b[1m260/260\u001b[0m \u001b[32m━━━━━━━━━━━━━━━━━━━━\u001b[0m\u001b[37m\u001b[0m \u001b[1m48s\u001b[0m 184ms/step - loss: 4357681.5000 - mae: 1534.5621\n",
      "Epoch 6/10\n",
      "\u001b[1m260/260\u001b[0m \u001b[32m━━━━━━━━━━━━━━━━━━━━\u001b[0m\u001b[37m\u001b[0m \u001b[1m49s\u001b[0m 187ms/step - loss: 1733621.6250 - mae: 967.4663\n",
      "Epoch 7/10\n",
      "\u001b[1m260/260\u001b[0m \u001b[32m━━━━━━━━━━━━━━━━━━━━\u001b[0m\u001b[37m\u001b[0m \u001b[1m50s\u001b[0m 191ms/step - loss: 689842.4375 - mae: 611.1973\n",
      "Epoch 8/10\n",
      "\u001b[1m260/260\u001b[0m \u001b[32m━━━━━━━━━━━━━━━━━━━━\u001b[0m\u001b[37m\u001b[0m \u001b[1m57s\u001b[0m 220ms/step - loss: 278600.5000 - mae: 390.8602\n",
      "Epoch 9/10\n",
      "\u001b[1m260/260\u001b[0m \u001b[32m━━━━━━━━━━━━━━━━━━━━\u001b[0m\u001b[37m\u001b[0m \u001b[1m56s\u001b[0m 216ms/step - loss: 124188.1172 - mae: 262.7506\n",
      "Epoch 10/10\n",
      "\u001b[1m260/260\u001b[0m \u001b[32m━━━━━━━━━━━━━━━━━━━━\u001b[0m\u001b[37m\u001b[0m \u001b[1m53s\u001b[0m 203ms/step - loss: 59714.4141 - mae: 182.9204\n"
     ]
    },
    {
     "data": {
      "text/plain": [
       "<keras.src.callbacks.history.History at 0x1bac10cf650>"
      ]
     },
     "execution_count": 11,
     "metadata": {},
     "output_type": "execute_result"
    }
   ],
   "source": [
    "model = Model(inputs=[input_image, input_features], outputs=output)\n",
    "model.compile(optimizer='adam', loss='mean_squared_error', metrics=['mae'])\n",
    "\n",
    "# Train the model\n",
    "model.fit([images, features], mos_scores, epochs=10, batch_size=32)"
   ]
  },
  {
   "cell_type": "code",
   "execution_count": 12,
   "metadata": {},
   "outputs": [
    {
     "name": "stderr",
     "output_type": "stream",
     "text": [
      "WARNING:absl:You are saving your model as an HDF5 file via `model.save()` or `keras.saving.save_model(model)`. This file format is considered legacy. We recommend using instead the native Keras format, e.g. `model.save('my_model.keras')` or `keras.saving.save_model(model, 'my_model.keras')`. \n"
     ]
    }
   ],
   "source": [
    "model.save(\"mos_prediction_model.h5\")\n"
   ]
  },
  {
   "cell_type": "code",
   "execution_count": null,
   "metadata": {},
   "outputs": [],
   "source": []
  },
  {
   "cell_type": "code",
   "execution_count": null,
   "metadata": {},
   "outputs": [],
   "source": []
  },
  {
   "cell_type": "code",
   "execution_count": null,
   "metadata": {},
   "outputs": [],
   "source": []
  }
 ],
 "metadata": {
  "kernelspec": {
   "display_name": "Python 3",
   "language": "python",
   "name": "python3"
  },
  "language_info": {
   "codemirror_mode": {
    "name": "ipython",
    "version": 3
   },
   "file_extension": ".py",
   "mimetype": "text/x-python",
   "name": "python",
   "nbconvert_exporter": "python",
   "pygments_lexer": "ipython3",
   "version": "3.11.9"
  }
 },
 "nbformat": 4,
 "nbformat_minor": 2
}
